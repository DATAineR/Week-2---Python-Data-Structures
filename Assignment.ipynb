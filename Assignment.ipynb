{
 "cells": [
  {
   "cell_type": "markdown",
   "id": "4269a9dd-0b08-40aa-bce8-3ed1e87454de",
   "metadata": {},
   "source": [
    "Q1. How do you comment code in Python? What are the different types of comments?\r\n"
   ]
  },
  {
   "cell_type": "markdown",
   "id": "07d50d2c-ecf5-4ac5-91b2-f50a77dfe56b",
   "metadata": {},
   "source": [
    "\n",
    "In Python,we  can add comments toyour code to provide explanations, documentyour code, or make notes. Comments are ignored by the Python interpreter and are for the benefit of developers reading the code. There are two main types of comments in Python:"
   ]
  },
  {
   "cell_type": "markdown",
   "id": "69901924-25fd-449f-9961-af9f96cd21a2",
   "metadata": {},
   "source": [
    "1. Single-line comments: Single-line comments are created using the # symbol. Everything following the # on that line is considered a comment."
   ]
  },
  {
   "cell_type": "code",
   "execution_count": 1,
   "id": "7fc59e34-aaf0-4b95-bf3b-f27ad9da7340",
   "metadata": {},
   "outputs": [
    {
     "name": "stdout",
     "output_type": "stream",
     "text": [
      "Hello, World!\n"
     ]
    }
   ],
   "source": [
    "# This is a single-line comment\n",
    "print(\"Hello, World!\")  # This is also a comment"
   ]
  },
  {
   "cell_type": "markdown",
   "id": "3f086b19-5704-4616-adb5-d65739985fac",
   "metadata": {},
   "source": [
    "2. Multi-line comments: While Python doesn't have a specific syntax for multi-line comments, we can use triple-quotes (single or double) to create a multiline string. This string can span multiple lines and is often used as a workaround for creating multiline comments."
   ]
  },
  {
   "cell_type": "code",
   "execution_count": 2,
   "id": "f6810177-38b1-4786-b67c-0426ed019c12",
   "metadata": {},
   "outputs": [
    {
     "name": "stdout",
     "output_type": "stream",
     "text": [
      "Hello, World!\n"
     ]
    }
   ],
   "source": [
    "'''\n",
    "This is a multi-line comment.\n",
    "It spans multiple lines.\n",
    "'''\n",
    "print(\"Hello, World!\")\n"
   ]
  },
  {
   "cell_type": "code",
   "execution_count": 3,
   "id": "fb4c0911-6fb0-4aeb-86f6-1070678c074d",
   "metadata": {},
   "outputs": [
    {
     "name": "stdout",
     "output_type": "stream",
     "text": [
      "Hello, World!\n"
     ]
    }
   ],
   "source": [
    "\"\"\"\n",
    "Another way to create a multi-line comment.\n",
    "This also spans multiple lines.\n",
    "\"\"\"\n",
    "print(\"Hello, World!\")\n"
   ]
  },
  {
   "cell_type": "markdown",
   "id": "5f3dd746-27f2-4f53-a22e-0e671dba007b",
   "metadata": {},
   "source": [
    "Q2. What are variables in Python? How do you declare and assign values to variables?\r\n"
   ]
  },
  {
   "cell_type": "markdown",
   "id": "74b6e175-2fed-4581-8e2a-13bd825ab11b",
   "metadata": {},
   "source": [
    "\n",
    "In Python, a variable is a symbolic name that refers to a value. Variables are used to store and manage data in a program. Unlike some other programming languages, Python is dynamically typed, meaningweu don't need to explicitly declare the type of a variable before assigning a value to it. Here's howweu declare and assign values to variables in Python:"
   ]
  },
  {
   "cell_type": "markdown",
   "id": "4bc92224-7124-4f90-8e4f-440d8fbd4ce0",
   "metadata": {},
   "source": [
    "Declaration and Assignment:\n"
   ]
  },
  {
   "cell_type": "code",
   "execution_count": 5,
   "id": "d07283bd-5ab6-4cd6-a06c-822f4bd8ae9d",
   "metadata": {},
   "outputs": [],
   "source": [
    "# Variable declaration and assignment\n",
    "# variable_name = value\n",
    "\n",
    "# Example:\n",
    "name = \"John\"\n",
    "age = 25\n",
    "pi_value = 3.14\n",
    "is_student = True"
   ]
  },
  {
   "cell_type": "markdown",
   "id": "a0bb9d21-a471-4c20-a416-68909c63a1c4",
   "metadata": {},
   "source": [
    "In the examples above:\n",
    "\n",
    "name is a variable that holds a string.\n",
    "age is a variable that holds an integer.\n",
    "pi_value is a variable that holds a floating-point number.\n",
    "is_student is a variable that holds a boolean value (True or False)."
   ]
  },
  {
   "cell_type": "markdown",
   "id": "9ccbf8a8-4e22-4b3b-a775-cfec0390782e",
   "metadata": {},
   "source": [
    "Multiple Assignments:"
   ]
  },
  {
   "cell_type": "markdown",
   "id": "b0a6b7ed-096c-4a39-83e1-d96b6ae81eff",
   "metadata": {},
   "source": [
    "We can also assign values to multiple variables in a single line:"
   ]
  },
  {
   "cell_type": "code",
   "execution_count": 6,
   "id": "27abad9a-37ca-46d8-b7c9-bc64912d9e15",
   "metadata": {},
   "outputs": [],
   "source": [
    "a, b, c = 1, 2, 3"
   ]
  },
  {
   "cell_type": "markdown",
   "id": "f23d8579-5da2-4fd3-9789-0e37f4e95add",
   "metadata": {},
   "source": [
    "In this example, a is assigned the value 1, b is assigned the value 2, and c is assigned the value 3."
   ]
  },
  {
   "cell_type": "markdown",
   "id": "1cb8c93b-2ada-4b6a-845f-570d583a4eba",
   "metadata": {},
   "source": [
    "Variable Naming Rules:"
   ]
  },
  {
   "cell_type": "markdown",
   "id": "cd6b2d9b-5872-4487-828f-00314b46c09d",
   "metadata": {},
   "source": [
    "Variable names must begin with a letter (a-z, A-Z) or an underscore (_).\n",
    "The remaining characters in a variable name can include letters, numbers, and underscores.\n",
    "Variable names are case-sensitive (e.g., name and Name are different variables).\n",
    "Python has some reserved words that cannot be used as variable names (e.g., if, else, while, etc.)."
   ]
  },
  {
   "cell_type": "code",
   "execution_count": 8,
   "id": "dab27c13-f7dd-4a01-833c-78f9c00b4d53",
   "metadata": {},
   "outputs": [],
   "source": [
    "# Valid variable names\n",
    "user_age = 30\n",
    "average_score = 95.5\n",
    "_total = 100\n",
    "\n",
    "# Invalid variable names (syntax error)\n",
    "# 1st_place = \"First\"  # starts with a number\n",
    "# my-variable = 42     # contains a hyphen\n",
    "# if = 10              # uses a reserved word# \n"
   ]
  },
  {
   "cell_type": "markdown",
   "id": "513e163e-e327-415d-9f34-08b13a1e42f7",
   "metadata": {},
   "source": [
    "Q3. How do you convert one data type to another in Python?"
   ]
  },
  {
   "cell_type": "markdown",
   "id": "8651bb53-5c27-4f31-b308-0096e357c988",
   "metadata": {},
   "source": [
    "In Python, we can convert one data type to another using type conversion functions or operations. Here are some common ways to perform type conversion:"
   ]
  },
  {
   "cell_type": "markdown",
   "id": "c9214766-41e8-4cb7-8961-bd8b69d13ae6",
   "metadata": {},
   "source": [
    "1. Implicit Type Conversion (Type Coercion):"
   ]
  },
  {
   "cell_type": "markdown",
   "id": "8f0c4384-859b-4fdc-aab4-41ca5426ecdc",
   "metadata": {},
   "source": [
    "Python automatically converts some data types to others in certain situations, such as during arithmetic operations between different types. For example:"
   ]
  },
  {
   "cell_type": "code",
   "execution_count": 9,
   "id": "e8c06212-db98-4c0b-a002-311e8a95b33a",
   "metadata": {},
   "outputs": [
    {
     "name": "stdout",
     "output_type": "stream",
     "text": [
      "7.0\n"
     ]
    }
   ],
   "source": [
    "# Implicit conversion (int to float)\n",
    "result = 5 + 2.0\n",
    "print(result)  # Output: 7.0"
   ]
  },
  {
   "cell_type": "markdown",
   "id": "589c8242-606d-4598-81ff-7f9152b91963",
   "metadata": {},
   "source": [
    "2. Explicit Type Conversion (Type Casting):"
   ]
  },
  {
   "cell_type": "markdown",
   "id": "2162c4a9-f446-46ea-aff0-56f30d2d9a37",
   "metadata": {},
   "source": [
    "We can explicitly convert a variable from one data type to another using type casting functions. Here are some common type casting functions:"
   ]
  },
  {
   "cell_type": "markdown",
   "id": "b051dc16-8572-45dd-94c0-ff215d39097a",
   "metadata": {},
   "source": [
    "a. int(): Converts a value to an integer."
   ]
  },
  {
   "cell_type": "code",
   "execution_count": 10,
   "id": "b456d01b-cbf3-4d9f-8dca-712c0e06d4f7",
   "metadata": {},
   "outputs": [
    {
     "name": "stdout",
     "output_type": "stream",
     "text": [
      "3\n"
     ]
    }
   ],
   "source": [
    "float_number = 3.14\n",
    "int_number = int(float_number)\n",
    "print(int_number)  # Output: 3"
   ]
  },
  {
   "cell_type": "markdown",
   "id": "b73659f6-e6d4-4fbb-a4d8-64d4ab1a355b",
   "metadata": {},
   "source": [
    "b. float(): Converts a value to a floating-point number."
   ]
  },
  {
   "cell_type": "code",
   "execution_count": 11,
   "id": "01194cf5-33ce-486d-b379-6b7e641b8342",
   "metadata": {},
   "outputs": [
    {
     "name": "stdout",
     "output_type": "stream",
     "text": [
      "42.0\n"
     ]
    }
   ],
   "source": [
    "integer_number = 42\n",
    "float_number = float(integer_number)\n",
    "print(float_number)  # Output: 42.0"
   ]
  },
  {
   "cell_type": "markdown",
   "id": "b43e2f43-695b-4b42-9319-82a283133dcc",
   "metadata": {},
   "source": [
    "c. str(): Converts a value to a string."
   ]
  },
  {
   "cell_type": "code",
   "execution_count": 12,
   "id": "0dcee592-b5e0-4bc8-b51d-7edd8882a345",
   "metadata": {},
   "outputs": [
    {
     "name": "stdout",
     "output_type": "stream",
     "text": [
      "123\n"
     ]
    }
   ],
   "source": [
    "number = 123\n",
    "number_str = str(number)\n",
    "print(number_str)  # Output: '123'"
   ]
  },
  {
   "cell_type": "markdown",
   "id": "e67aead4-e6b9-4a8b-9e11-b119418511c0",
   "metadata": {},
   "source": [
    "d. list(), tuple(), set(): Converts a sequence (e.g., tuple, list) to another sequence type."
   ]
  },
  {
   "cell_type": "code",
   "execution_count": 13,
   "id": "9d1071e3-0ebb-4598-9081-ade9c6aab1d2",
   "metadata": {},
   "outputs": [
    {
     "name": "stdout",
     "output_type": "stream",
     "text": [
      "[1, 2, 3]\n"
     ]
    }
   ],
   "source": [
    "tuple_values = (1, 2, 3)\n",
    "list_values = list(tuple_values)\n",
    "print(list_values)  # Output: [1, 2, 3]"
   ]
  },
  {
   "cell_type": "markdown",
   "id": "1caaa607-25ab-4af9-b3b7-c0ef3dc98c19",
   "metadata": {},
   "source": [
    "e. bool(): Converts a value to a boolean."
   ]
  },
  {
   "cell_type": "code",
   "execution_count": 14,
   "id": "9a95fe4e-bfa6-4cc6-bcd2-76532e6e2ed1",
   "metadata": {},
   "outputs": [
    {
     "name": "stdout",
     "output_type": "stream",
     "text": [
      "True\n"
     ]
    }
   ],
   "source": [
    "number = 42\n",
    "bool_value = bool(number)\n",
    "print(bool_value)  # Output: True"
   ]
  },
  {
   "cell_type": "markdown",
   "id": "29ee5959-8aed-490f-8f6e-fd76d86bfb33",
   "metadata": {},
   "source": [
    "f. ord() and chr(): Converts a character to its Unicode code and vice versa."
   ]
  },
  {
   "cell_type": "code",
   "execution_count": 15,
   "id": "87a40177-37ef-44ee-99dd-7f460354c9c5",
   "metadata": {},
   "outputs": [
    {
     "name": "stdout",
     "output_type": "stream",
     "text": [
      "65\n",
      "A\n"
     ]
    }
   ],
   "source": [
    "character = 'A'\n",
    "unicode_code = ord(character)\n",
    "print(unicode_code)  # Output: 65\n",
    "\n",
    "char_from_code = chr(65)\n",
    "print(char_from_code)  # Output: 'A'"
   ]
  },
  {
   "cell_type": "markdown",
   "id": "c7c3e3be-8813-4b7d-8f26-d6efa9cbefc5",
   "metadata": {},
   "source": [
    "3. Using the format() Method:"
   ]
  },
  {
   "cell_type": "markdown",
   "id": "fe556c05-0eea-4d04-9557-bce80649e18a",
   "metadata": {},
   "source": [
    "You can use the format() method to convert values to strings and format them within a string."
   ]
  },
  {
   "cell_type": "code",
   "execution_count": 17,
   "id": "df3f5f20-dc4a-4f61-b94a-cfd27d8caf96",
   "metadata": {},
   "outputs": [
    {
     "name": "stdout",
     "output_type": "stream",
     "text": [
      "My age is 19\n"
     ]
    }
   ],
   "source": [
    "age = 19\n",
    "formatted_string = \"My age is {}\".format(age)\n",
    "print(formatted_string)  # Output: 'My age is 19'"
   ]
  },
  {
   "cell_type": "markdown",
   "id": "f27b8431-6e07-4138-96ff-55ddca804f86",
   "metadata": {},
   "source": [
    "4. Using f-strings (Python 3.6 and later):"
   ]
  },
  {
   "cell_type": "markdown",
   "id": "e6314ec0-b790-4dc6-b018-1ba5728b105e",
   "metadata": {},
   "source": [
    "We can use f-strings to embed expressions inside string literals, allowing for easy conversion."
   ]
  },
  {
   "cell_type": "code",
   "execution_count": 19,
   "id": "fc55c2a2-6377-4d00-9088-2836eac5ffbd",
   "metadata": {},
   "outputs": [
    {
     "name": "stdout",
     "output_type": "stream",
     "text": [
      "My age is 19\n"
     ]
    }
   ],
   "source": [
    "age = 19\n",
    "formatted_string = f\"My age is {age}\"\n",
    "print(formatted_string)  # Output: 'My age is 19'"
   ]
  },
  {
   "cell_type": "markdown",
   "id": "33fc9402-3c93-49e9-b710-0f7ff2ffa9bc",
   "metadata": {},
   "source": [
    "Q4. How do you write and execute a Python script from the command line?"
   ]
  },
  {
   "cell_type": "markdown",
   "id": "fb98f912-f072-4c8b-a89a-26379f8ade1b",
   "metadata": {},
   "source": [
    "To write and execute a Python script from the command line, follow these steps:"
   ]
  },
  {
   "cell_type": "markdown",
   "id": "1dd8d2a4-cb45-4665-92d4-39ac38f9db7d",
   "metadata": {},
   "source": [
    "1. Write Your Python Script:"
   ]
  },
  {
   "cell_type": "markdown",
   "id": "d8310d26-e17b-40b0-9c37-8b4634e5ea7b",
   "metadata": {},
   "source": [
    "Create a new file with a .py extension. This file will contain your Python code. We can use any text editor or integrated development environment (IDE) to write our script. For example, we can use a text editor like Notepad, Vim, or an IDE like VSCode, PyCharm, or IDLE."
   ]
  },
  {
   "cell_type": "markdown",
   "id": "e9ecdb72-f26d-4c3b-8d40-79cf187ee67c",
   "metadata": {},
   "source": [
    "Let's say our script is named myscript.py, and it contains the following code:"
   ]
  },
  {
   "cell_type": "code",
   "execution_count": 20,
   "id": "53a94ecb-06f8-47ed-9d08-9eef70b111a8",
   "metadata": {},
   "outputs": [
    {
     "name": "stdout",
     "output_type": "stream",
     "text": [
      "Hello, World!\n"
     ]
    }
   ],
   "source": [
    "# myscript.py\n",
    "print(\"Hello, World!\")"
   ]
  },
  {
   "cell_type": "markdown",
   "id": "db655d15-07b0-44ab-ac2a-63494b2a8021",
   "metadata": {},
   "source": [
    "2. Save the Script:"
   ]
  },
  {
   "cell_type": "markdown",
   "id": "0cf3dda0-a197-4aad-a4e6-b700eea0ef01",
   "metadata": {},
   "source": [
    "Save the file with the .py extension, for example, myscript.py."
   ]
  },
  {
   "cell_type": "markdown",
   "id": "04e60ba1-60d2-465c-8454-79053e639476",
   "metadata": {},
   "source": [
    "3. Open a Command Prompt or Terminal:"
   ]
  },
  {
   "cell_type": "markdown",
   "id": "f6fd35c9-fb46-4068-a763-3b6fa1aba314",
   "metadata": {},
   "source": [
    "Open the command prompt on Windows or the terminal on macOS/Linux."
   ]
  },
  {
   "cell_type": "markdown",
   "id": "937bbbc4-148b-4e10-9c40-938014439272",
   "metadata": {},
   "source": [
    "4. Navigate to the Script's Directory:"
   ]
  },
  {
   "cell_type": "markdown",
   "id": "067a578b-c6ae-41bb-bf7f-67a3d6f452ca",
   "metadata": {},
   "source": [
    "Use the cd command to navigate to the directory where your Python script is located."
   ]
  },
  {
   "cell_type": "markdown",
   "id": "2d60b1d7-6f3e-4a4c-ad54-55ab84b99adf",
   "metadata": {},
   "source": [
    "cd path/to/our/script/directoy"
   ]
  },
  {
   "cell_type": "markdown",
   "id": "750d07ee-4456-416d-83cf-a9eec226ccc5",
   "metadata": {},
   "source": [
    "Replace path/to/our/script/directory with the actual path to the directory where your script is saved."
   ]
  },
  {
   "cell_type": "markdown",
   "id": "94969f05-c693-43d3-8cfe-e489d10eeeaf",
   "metadata": {},
   "source": [
    "5. Run the Python Script:"
   ]
  },
  {
   "cell_type": "markdown",
   "id": "04951182-fdf7-462c-9c6b-fe52a6b562ec",
   "metadata": {},
   "source": [
    "To execute the script, use the python command followed by the script's filename."
   ]
  },
  {
   "cell_type": "markdown",
   "id": "961155cd-38f7-4e0d-aeb3-47aba4cebc4f",
   "metadata": {},
   "source": [
    "python myscript.py"
   ]
  },
  {
   "cell_type": "markdown",
   "id": "fcc42585-0dcf-48d1-81a1-e48ada2e6c1d",
   "metadata": {},
   "source": [
    "If we are using Python 3, we may need to use python3 instead of python:"
   ]
  },
  {
   "cell_type": "markdown",
   "id": "8a1deea6-7ae6-43a2-8c37-355921670d45",
   "metadata": {},
   "source": [
    "python3 myscript.py"
   ]
  },
  {
   "cell_type": "markdown",
   "id": "aad64918-3317-4689-a792-ca6e053bdf14",
   "metadata": {},
   "source": [
    "Q5. Given a list my_list = [1, 2, 3, 4, 5], write the code to slice the list and obtain the sub-list [2, 3]."
   ]
  },
  {
   "cell_type": "markdown",
   "id": "367e9399-179d-47b7-8771-71f6c77091c0",
   "metadata": {},
   "source": [
    "We can use slicing to obtain a sub-list from the given list my_list. In Python, the slicing syntax is start:stop:step. Here's how we can slice the list to obtain the sub-list [2, 3]:"
   ]
  },
  {
   "cell_type": "code",
   "execution_count": 22,
   "id": "2c578366-bcf4-4257-bd21-4ef2333e61a7",
   "metadata": {},
   "outputs": [
    {
     "name": "stdout",
     "output_type": "stream",
     "text": [
      "[2, 3]\n"
     ]
    }
   ],
   "source": [
    "my_list = [1, 2, 3, 4, 5]\n",
    "\n",
    "# Slice to obtain the sub-list [2, 3]\n",
    "sub_list = my_list[1:3]\n",
    "\n",
    "print(sub_list)\n"
   ]
  },
  {
   "cell_type": "markdown",
   "id": "e572f185-a0fd-4576-8ddb-9c42b2459104",
   "metadata": {},
   "source": [
    "In the code above:\n",
    "\n",
    "The index 1 represents the starting position (inclusive).\n",
    "The index 3 represents the stopping position (exclusive).\n",
    "So, my_list[1:3] selects elements at positions 1 and 2, giving you the sub-list [2, 3]."
   ]
  },
  {
   "cell_type": "markdown",
   "id": "3dbf0e59-3f1f-4d17-b475-084deb577ca0",
   "metadata": {},
   "source": [
    "Q6. What is a complex number in mathematics, and how is it represented in Python?"
   ]
  },
  {
   "cell_type": "markdown",
   "id": "c092c768-7086-4860-b7ec-059e4ad54317",
   "metadata": {},
   "source": [
    "\n",
    "In mathematics, a complex number is a number that can be expressed in the form a + bi, where a and b are real numbers, and i is the imaginary unit, which is defined as the square root of -1. The real part (a) and the imaginary part (b) together form the complex number.\n",
    "\n",
    "The imaginary unit i has the property that i^2 = -1. Complex numbers are often used in various mathematical and engineering applications, especially in areas like signal processing, control systems, and quantum mechanics.\n",
    "\n",
    "In Python, complex numbers are represented using the complex data type. The imaginary part is denoted by the suffix j or J. Here's how we can create and work with complex numbers in Python:"
   ]
  },
  {
   "cell_type": "code",
   "execution_count": 24,
   "id": "adeda082-a0b4-47b5-a819-a665c3f8b7c5",
   "metadata": {},
   "outputs": [
    {
     "name": "stdout",
     "output_type": "stream",
     "text": [
      "Sum: (4+2j)\n",
      "Difference: (2+6j)\n",
      "Product: (11-2j)\n",
      "Quotient: (-1+2j)\n"
     ]
    }
   ],
   "source": [
    "# Creating complex numbers\n",
    "z1 = 3 + 4j  # Real part: 3, Imaginary part: 4\n",
    "z2 = 1 - 2j  # Real part: 1, Imaginary part: -2\n",
    "\n",
    "# Addition of complex numbers\n",
    "sum_result = z1 + z2\n",
    "print(\"Sum:\", sum_result)  # Output: (4+2j)\n",
    "\n",
    "# Subtraction of complex numbers\n",
    "diff_result = z1 - z2\n",
    "print(\"Difference:\", diff_result)  # Output: (2+6j)\n",
    "\n",
    "# Multiplication of complex numbers\n",
    "product_result = z1 * z2\n",
    "print(\"Product:\", product_result)  # Output: (11+10j)\n",
    "\n",
    "# Division of complex numbers\n",
    "quotient_result = z1 / z2\n",
    "print(\"Quotient:\", quotient_result)  # Output: (-1+2j)\n"
   ]
  },
  {
   "cell_type": "markdown",
   "id": "c21eb6bb-ca37-48a5-8793-1bc563ebdcc3",
   "metadata": {},
   "source": [
    "Q7. What is the correct way to declare a variable named age and assign the value 25 to it?"
   ]
  },
  {
   "cell_type": "markdown",
   "id": "b72af185-abd4-4a2c-9c59-776bd2a54fab",
   "metadata": {},
   "source": [
    "The correct way to declare a variable named age and assign the value 25 to it in Python is as follows:"
   ]
  },
  {
   "cell_type": "code",
   "execution_count": 26,
   "id": "133fd79b-ac17-4cde-a826-4dbb2fef358a",
   "metadata": {},
   "outputs": [],
   "source": [
    "age = 19"
   ]
  },
  {
   "cell_type": "markdown",
   "id": "2c87d190-c4bd-4731-9da4-f83c9f4a105c",
   "metadata": {},
   "source": [
    "In this example:\n",
    "\n",
    "age is the variable name.\n",
    "\n",
    "= is the assignment operator.\n",
    "\n",
    "25 is the value assigned to the variable.\n",
    "\n",
    "After this declaration, we can use the variable age in your code, and it will hold the value 25. Remember that in Python, we don't need to explicitly specify the data type of the variable; Python will dynamically infer it based on the assigned value."
   ]
  },
  {
   "cell_type": "markdown",
   "id": "55022461-cb82-46e9-9806-eab7c26b73ee",
   "metadata": {},
   "source": [
    "Q8. Declare a variable named price and assign the value 9.99 to it. What data type does this variable \n",
    "belong to?"
   ]
  },
  {
   "cell_type": "markdown",
   "id": "81dfaa95-dcf8-43de-8ce9-0165f982ab06",
   "metadata": {},
   "source": [
    "To declare a variable named price and assign the value 9.99 to it in Python, we can use the following code:"
   ]
  },
  {
   "cell_type": "code",
   "execution_count": 27,
   "id": "01083c27-5c04-4679-adc6-e75bb60cd1bf",
   "metadata": {},
   "outputs": [],
   "source": [
    "price = 9.99"
   ]
  },
  {
   "cell_type": "markdown",
   "id": "52319b2f-bd61-48d0-bc75-6fd4ed3f6dd0",
   "metadata": {},
   "source": [
    "In this example:\n",
    "\n",
    "price is the variable name.\n",
    "\n",
    "= is the assignment operator.\n",
    "\n",
    "9.99 is the value assigned to the variable.\n",
    "\n",
    "The variable price belongs to the data type float because it holds a floating-point number (a decimal value). In Python, a variable's data type is dynamically inferred based on the assigned value, and in this case, 9.99 is a floating-point literal, so the variable is of type float."
   ]
  },
  {
   "cell_type": "markdown",
   "id": "da4837c9-dc8c-443d-a96f-29541f74c39d",
   "metadata": {},
   "source": [
    "Q9. Create a variable named name and assign your full name to it as a string. How would you print the \n",
    "value of this variable?"
   ]
  },
  {
   "cell_type": "markdown",
   "id": "bb767d2e-af28-4260-bf64-c3d0a94ed3bf",
   "metadata": {},
   "source": [
    "To create a variable named name and assign my full name to it as a string in Python, we can use the following code as an example:"
   ]
  },
  {
   "cell_type": "code",
   "execution_count": 29,
   "id": "5c88ee54-6e54-4552-a7f5-4c5f19625ccb",
   "metadata": {},
   "outputs": [],
   "source": [
    "name = \"Aashay Tamrakar\""
   ]
  },
  {
   "cell_type": "markdown",
   "id": "09c40858-6fa2-423b-b57b-a2eae0f664ca",
   "metadata": {},
   "source": [
    "To print the value of the name variable, you can use the print() function:"
   ]
  },
  {
   "cell_type": "code",
   "execution_count": 30,
   "id": "758e086d-77ce-40c7-85de-cd5eed309337",
   "metadata": {},
   "outputs": [
    {
     "name": "stdout",
     "output_type": "stream",
     "text": [
      "Aashay Tamrakar\n"
     ]
    }
   ],
   "source": [
    "print(name)"
   ]
  },
  {
   "cell_type": "markdown",
   "id": "d9e22ed4-c99a-4dbe-bf6d-8c7c0acd525c",
   "metadata": {},
   "source": [
    "This will output my full name to the console. If we want to include a message along with the name, we can do something like:"
   ]
  },
  {
   "cell_type": "code",
   "execution_count": 31,
   "id": "d47ab5ea-0634-4d4b-9d34-711d2b3ca932",
   "metadata": {},
   "outputs": [
    {
     "name": "stdout",
     "output_type": "stream",
     "text": [
      "My name is: Aashay Tamrakar\n"
     ]
    }
   ],
   "source": [
    "print(\"My name is:\", name)"
   ]
  },
  {
   "cell_type": "markdown",
   "id": "4410fdc8-3533-4ab7-8e00-5edbc9ba8de3",
   "metadata": {},
   "source": [
    "Q10. Given the string \"Hello, World!\", extract the substring \"World\"."
   ]
  },
  {
   "cell_type": "code",
   "execution_count": 32,
   "id": "26474948-e5d4-4e8d-a7d6-43e9d7533e56",
   "metadata": {},
   "outputs": [
    {
     "name": "stdout",
     "output_type": "stream",
     "text": [
      "World\n"
     ]
    }
   ],
   "source": [
    "original_string = \"Hello, World!\"\n",
    "\n",
    "# Extracting the substring \"World\"\n",
    "substring = original_string[7:12]\n",
    "\n",
    "print(substring)\n"
   ]
  },
  {
   "cell_type": "markdown",
   "id": "a10a7f41-d3e7-4de9-ac10-23b6d163fd23",
   "metadata": {},
   "source": [
    "Q11. Create a variable named \"is_student\" and assign it a boolean value indicating whether we are \n",
    "currently a student or not."
   ]
  },
  {
   "cell_type": "markdown",
   "id": "e3ab9321-263a-4508-ac5d-538da4ba978b",
   "metadata": {},
   "source": [
    "\n",
    "Certainly! To create a variable named is_student and assign it a boolean value indicating whether we are currently a student or not, we can use the following code:"
   ]
  },
  {
   "cell_type": "code",
   "execution_count": 33,
   "id": "b2a3caa2-2eb8-40bc-997e-f8a84a4daabf",
   "metadata": {},
   "outputs": [],
   "source": [
    "is_student = True  # Set to True if we are currently a student, or False if not"
   ]
  },
  {
   "cell_type": "markdown",
   "id": "430b343d-f95a-4383-b53c-b89f4b475f23",
   "metadata": {},
   "source": [
    "Replace True or False based on our current student status. In Python, True and False are the boolean literals representing true and false values, respectively.\n",
    "\n",
    "For example, if you are currently a student, you would set it to True:"
   ]
  },
  {
   "cell_type": "code",
   "execution_count": 34,
   "id": "1d30b1a1-b796-4ef9-9daa-94fb3a50db46",
   "metadata": {},
   "outputs": [],
   "source": [
    "is_student = True"
   ]
  },
  {
   "cell_type": "markdown",
   "id": "6d0424ec-316c-4d31-bb66-bcdbc996bf6a",
   "metadata": {},
   "source": [
    "If you are not currently a student, we would set it to False:"
   ]
  },
  {
   "cell_type": "code",
   "execution_count": 35,
   "id": "94c33677-d4e3-464f-af3c-8b1924332cf0",
   "metadata": {},
   "outputs": [],
   "source": [
    "is_student = False"
   ]
  },
  {
   "cell_type": "markdown",
   "id": "e2c3416f-c99e-449b-8ff1-433b391581e9",
   "metadata": {},
   "source": [
    "Now, the variable is_student holds a boolean value indicating our student status. We can use this variable in your code to make decisions or perform actions based on whether we are a student or not."
   ]
  },
  {
   "cell_type": "code",
   "execution_count": null,
   "id": "7af7fdb2-b379-41ef-b984-fdca7681b67c",
   "metadata": {},
   "outputs": [],
   "source": []
  }
 ],
 "metadata": {
  "kernelspec": {
   "display_name": "Python 3 (ipykernel)",
   "language": "python",
   "name": "python3"
  },
  "language_info": {
   "codemirror_mode": {
    "name": "ipython",
    "version": 3
   },
   "file_extension": ".py",
   "mimetype": "text/x-python",
   "name": "python",
   "nbconvert_exporter": "python",
   "pygments_lexer": "ipython3",
   "version": "3.11.7"
  }
 },
 "nbformat": 4,
 "nbformat_minor": 5
}
